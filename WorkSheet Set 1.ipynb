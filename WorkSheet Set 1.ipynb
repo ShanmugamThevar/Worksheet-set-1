{
 "cells": [
  {
   "cell_type": "markdown",
   "metadata": {},
   "source": [
    "# STATISTICS"
   ]
  },
  {
   "cell_type": "markdown",
   "metadata": {},
   "source": [
    "1. Bernoulli random variables take (only) the values 1 and 0.\n",
    "\n",
    "Ans. a)True"
   ]
  },
  {
   "cell_type": "markdown",
   "metadata": {},
   "source": [
    "2. Which of the following theorem states that the distribution of averages of iid variables, properly \n",
    "normalized, becomes that of a standard normal as the sample size increases?\n",
    "\n",
    "Ans. a) Central Limit Theorem"
   ]
  },
  {
   "cell_type": "markdown",
   "metadata": {},
   "source": [
    "3. Which of the following is incorrect with respect to use of Poisson distribution?\n",
    "\n",
    "Ans. b) Modeling bounded count data"
   ]
  },
  {
   "cell_type": "markdown",
   "metadata": {},
   "source": [
    "4. Point out the correct statement.\n",
    "\n",
    "Ans. d) All of the mentioned"
   ]
  },
  {
   "cell_type": "markdown",
   "metadata": {},
   "source": [
    "5. ______ random variables are used to model rates.\n",
    "\n",
    "Ans. c) Poisson"
   ]
  },
  {
   "cell_type": "markdown",
   "metadata": {},
   "source": [
    "6. Usually replacing the standard error by its estimated value does change the CLT.\n",
    "\n",
    "Ans. b) False"
   ]
  },
  {
   "cell_type": "markdown",
   "metadata": {},
   "source": [
    "7. Which of the following testing is concerned with making decisions using data?\n",
    "\n",
    "Ans. b) Hypothesis\n"
   ]
  },
  {
   "cell_type": "markdown",
   "metadata": {},
   "source": [
    "8. Normalized data are centered at______and have units equal to standard deviations of the \n",
    "original data.\n",
    "\n",
    "Ans. a) 0"
   ]
  },
  {
   "cell_type": "markdown",
   "metadata": {},
   "source": [
    "9. Which of the following statement is incorrect with respect to outliers?\n",
    "\n",
    "Ans. c) Outliers cannot conform to the regression relationship"
   ]
  },
  {
   "cell_type": "markdown",
   "metadata": {},
   "source": [
    "10. What do you understand by the term Normal Distribution?\n",
    "\n",
    "Ans. Normal Distribution is an arrangement of a dataset in which most values cluster in the middle of the range and the rest taper off symmetrically toward either sides. In normal distribution the mean, median, and mode are same. The graphical representation of this is called bell curve as it's shape is flared. It is symmetric since most of the observations assemble around the central peak of the curve. "
   ]
  },
  {
   "cell_type": "markdown",
   "metadata": {},
   "source": [
    "11. How do you handle missing data? What imputation techniques do you recommend?\n",
    "\n",
    "Ans. Missing data can lead to wrong predictions. Handling missing data is one of the task for correct analysis. It is the major step for data preprocessing. Filling the data with the appropriate information is not possible but we can fill the same with the mean, median, or mode of the data using various methods.\n",
    "\n",
    "Data Imputation is a method in which the missing values in any variable or data frame is filled with some numeric values for performing the task. It maintains the sample size and it remains same, only the blanks which were missing are filled with some values. There are many methods for data imputation, the most prominent ones are imputation using mean/median values, KNNImputer, SimpleImputer, IterativeImputer."
   ]
  },
  {
   "cell_type": "markdown",
   "metadata": {},
   "source": [
    "12. What is A/B testing?\n",
    "\n",
    "Ans. A/B testing is also known as split testing or bucket testing. It is a way to compare two versions of a single variable, by testing someone's response to variant A against variant B and determine which is more effective.\n"
   ]
  },
  {
   "cell_type": "markdown",
   "metadata": {},
   "source": [
    "13. Is mean imputation of missing data acceptable practice?\n",
    "\n",
    "Ans. Mean imputation is a method in which the missing value on a certain variable is replaced by the mean of the available data. It is easy and maintains the sample data size but the variability is reduced so the standard deviations and variance estimates tend to be underestimated."
   ]
  },
  {
   "cell_type": "markdown",
   "metadata": {},
   "source": [
    "14. What is linear regression in statistics?\n",
    "\n",
    "Ans. Linear regression in statistics is a linear approach to modelling the relationship between a dependent variable and independent variable.\n"
   ]
  },
  {
   "cell_type": "markdown",
   "metadata": {},
   "source": [
    "15. What are the various branches of statistics?\n",
    "\n",
    "Ans. The two main branches of statistics are descriptive statistics and inferential statistics. Descriptive statistics deals with the presentation and collection of data and inferential statistics involves drawing the right conclusions from the statistical analysis that has been performed using descriptive statistics.\n"
   ]
  },
  {
   "cell_type": "code",
   "execution_count": null,
   "metadata": {},
   "outputs": [],
   "source": []
  },
  {
   "cell_type": "code",
   "execution_count": null,
   "metadata": {},
   "outputs": [],
   "source": []
  },
  {
   "cell_type": "markdown",
   "metadata": {},
   "source": [
    "# SQL Worksheet"
   ]
  },
  {
   "cell_type": "markdown",
   "metadata": {},
   "source": [
    "1. Which of the following is/are DDL commands in SQL?\n",
    "\n",
    "Ans. A) Create D) ALTER"
   ]
  },
  {
   "cell_type": "markdown",
   "metadata": {},
   "source": [
    "2. Which of the following is/are DML commands in SQL?\n",
    "\n",
    "Ans. A) Update B) Delete C) Select"
   ]
  },
  {
   "cell_type": "markdown",
   "metadata": {},
   "source": [
    "3. Full form of SQL is:\n",
    "    \n",
    "Ans. B) Structured Query Language"
   ]
  },
  {
   "cell_type": "markdown",
   "metadata": {},
   "source": [
    "4. Full form of DDL is:\n",
    "    \n",
    "Ans. B) Data Definition Language"
   ]
  },
  {
   "cell_type": "markdown",
   "metadata": {},
   "source": [
    "5. DML is:\n",
    "    \n",
    "Ans. A) Data Manipulation Language"
   ]
  },
  {
   "cell_type": "markdown",
   "metadata": {},
   "source": [
    "6. Which of the following statements can be used to create a table with column B int type and C floattype?\n",
    "\n",
    "Ans. C) Create Table A (B int,C float)"
   ]
  },
  {
   "cell_type": "markdown",
   "metadata": {},
   "source": [
    "7. Which of the following statements can be used to add a column D (float type) to the table A created\n",
    "above?\n",
    "\n",
    "Ans. B) Alter Table A ADD COLUMN D float\n"
   ]
  },
  {
   "cell_type": "markdown",
   "metadata": {},
   "source": [
    "8. Which of the following statements can be used to drop the column added in the above question?\n",
    "\n",
    "Ans. B) Alter Table A Drop Column D"
   ]
  },
  {
   "cell_type": "markdown",
   "metadata": {},
   "source": [
    "9. Which of the following statements can be used to change the data type (from float to int ) of the column \n",
    "Dof table A created in above questions?\n",
    "\n",
    "Ans. D) Alter table A Column D float to int"
   ]
  },
  {
   "cell_type": "markdown",
   "metadata": {},
   "source": [
    "10. Suppose we want to make Column B of Table A as primary key of the table. By which of the following \n",
    "statements we can do it?\n",
    "\n",
    "Ans. C) Alter Table A Add Primary key B "
   ]
  },
  {
   "cell_type": "markdown",
   "metadata": {},
   "source": [
    "11. What is data-warehouse?\n",
    "\n",
    "Ans. A Data Warehousing (DW) is process for collecting and managing data from varied sources to provide meaningful business insights. A Data warehouse is typically used to connect and analyze business data from heterogeneous sources. It is the core of the Business Insights system which is built for data analysis and reporting. It is a process of transforming data into information and making it available to users in a timely manner to make a difference."
   ]
  },
  {
   "cell_type": "markdown",
   "metadata": {},
   "source": [
    "12. What is the difference between OLTP VS OLAP?\n",
    "\n",
    "Ans. OLAP stands for Online Analytical Processing and OLTP stands for Online Transaction Processing.OLTP and OLAP both are the online processing systems. OLTP is a system that manages transaction-oriented applications on the internet for example, ATM. OLAP is an online system that reports to multidimensional analytical queries like financial reporting, forecasting, etc.OLAP focuses on extracting data for analyzing which helps in decision making whereas OLTP focuses on Insertion, updation, and deletion of information from the database."
   ]
  },
  {
   "cell_type": "markdown",
   "metadata": {},
   "source": [
    "13. What are the various characteristics of data-warehouse?\n",
    "\n",
    "Ans. The three important characteristics of data warehouse are:\n",
    "\n",
    "INTEGRATED: The way data is extracted and transformed is uniform, regardless of the original source.\n",
    "    \n",
    "TIME-VARIANT: Data is organized via time-periods (Weekly, monthly, annually, etc.).\n",
    "    \n",
    "NON-VOLATILE: A data warehouse is not updated in real-time. It is periodically updated by the uploading of data, protecting it from the influence of momentary change.\n",
    "\n"
   ]
  },
  {
   "cell_type": "markdown",
   "metadata": {},
   "source": [
    "14. What is Star-Schema??\n",
    "\n",
    "Ans. A Star Schema is a schema Architectural structure used for creation and implementation of the Data Warehouse systems.It is structured like a star in shape of appearance. This is one of the efficient data warehouse schema types, which can use simple querying for accessing the data from the system. Star Schema is created by conversion of the entity-relationship model.\n"
   ]
  },
  {
   "cell_type": "markdown",
   "metadata": {},
   "source": [
    "15. What do you mean by SETL?\n",
    "\n",
    "Ans. SETL (SET Language) is a very high-level programming language based on the mathematical theory of sets. SETL is a general-purpose, high-level programming language in which sets and first-order mappings are fundamental to the syntax and semantics of the language. This lends great conciseness and readability to a wide range of applications, from basic data filtering and transformation to the abstract presentation of complex algorithms."
   ]
  },
  {
   "cell_type": "code",
   "execution_count": null,
   "metadata": {},
   "outputs": [],
   "source": []
  },
  {
   "cell_type": "code",
   "execution_count": null,
   "metadata": {},
   "outputs": [],
   "source": []
  },
  {
   "cell_type": "markdown",
   "metadata": {},
   "source": [
    "# MACHINE LEARNING"
   ]
  },
  {
   "cell_type": "markdown",
   "metadata": {},
   "source": [
    "1. What is the most appropriate no. of clusters for the data points represented by the following \n",
    "dendrogram:\n",
    "\n",
    "Ans. a) 2"
   ]
  },
  {
   "cell_type": "markdown",
   "metadata": {},
   "source": [
    "2. In which of the following cases will K-Means clustering fail to give good results?\n",
    "   \n",
    "Ans. d) 1, 2 and 4"
   ]
  },
  {
   "cell_type": "markdown",
   "metadata": {},
   "source": [
    "3. The most important part of is selecting the variables on which clustering is based.\n",
    "\n",
    "Ans. d) formulating the clustering problem\n"
   ]
  },
  {
   "cell_type": "markdown",
   "metadata": {},
   "source": [
    "4. The most commonly used measure of similarity is the or its square.\n",
    "\n",
    "Ans. a) Euclidean distance"
   ]
  },
  {
   "cell_type": "markdown",
   "metadata": {},
   "source": [
    "5. is a clustering procedure where all objects start out in one giant cluster. Clusters are formed by \n",
    "dividing this cluster into smaller and smaller clusters.\n",
    "\n",
    "Ans. b) Divisive clustering"
   ]
  },
  {
   "cell_type": "markdown",
   "metadata": {},
   "source": [
    "6. Which of the following is required by K-means clustering?\n",
    "\n",
    "Ans. a) Defined distance metric"
   ]
  },
  {
   "cell_type": "markdown",
   "metadata": {},
   "source": [
    "7. The goal of clustering is to-\n",
    "\n",
    "Ans. a) Divide the data points into groups"
   ]
  },
  {
   "cell_type": "markdown",
   "metadata": {},
   "source": [
    "8. Clustering is a-\n",
    "\n",
    "Ans. b) Unsupervised learning"
   ]
  },
  {
   "cell_type": "markdown",
   "metadata": {},
   "source": [
    "9. Which of the following clustering algorithms suffers from the problem of convergence at local \n",
    "optima?\n",
    "\n",
    "Ans. a) K- Means clustering"
   ]
  },
  {
   "cell_type": "markdown",
   "metadata": {},
   "source": [
    "10. Which version of the clustering algorithm is most sensitive to outliers?\n",
    "\n",
    "Ans. a) K-means clustering algorithm"
   ]
  },
  {
   "cell_type": "markdown",
   "metadata": {},
   "source": [
    "11. Which of the following is a bad characteristic of a dataset for clustering analysis\u0002\n",
    "\n",
    "Ans. a) Data points with outliers"
   ]
  },
  {
   "cell_type": "markdown",
   "metadata": {},
   "source": [
    "12. For clustering, we do not require-\n",
    "\n",
    "Ans. a) Labeled data"
   ]
  },
  {
   "cell_type": "markdown",
   "metadata": {},
   "source": [
    "15. What is cluster analysis and its types?\n",
    "\n",
    "Ans. Cluster analysis is a multivariate data mining technique whose goal is to groups objects based on a set of user selected characteristics or attributes. It is the most important step of data mining and a common technique for statistical data analysis. \n",
    "\n",
    "Types of Cluster Analysis are:\n",
    "1. Hierarchical Cluster Analysis\n",
    "A cluster is made and then added to another cluster (the most similar and closest one) to form one single cluster. This process is repeated until all subjects are in one cluster. \n",
    "\n",
    "2. Centroid-based Clustering\n",
    "Clusters are represented by a central entity, which may or may not be a part of the given data set. \n",
    "\n",
    "3. Distribution-based Clustering\n",
    "It is a type of clustering model closely related to statistics based on the modals of distribution. Objects that belong to the same distribution are put into a single cluster.\n",
    "\n",
    "4. Density-based Clustering\n",
    "Clusters are defined by the areas of density that are higher than the remaining of the data set."
   ]
  },
  {
   "cell_type": "code",
   "execution_count": null,
   "metadata": {},
   "outputs": [],
   "source": []
  }
 ],
 "metadata": {
  "kernelspec": {
   "display_name": "Python 3",
   "language": "python",
   "name": "python3"
  },
  "language_info": {
   "codemirror_mode": {
    "name": "ipython",
    "version": 3
   },
   "file_extension": ".py",
   "mimetype": "text/x-python",
   "name": "python",
   "nbconvert_exporter": "python",
   "pygments_lexer": "ipython3",
   "version": "3.8.3"
  }
 },
 "nbformat": 4,
 "nbformat_minor": 4
}
